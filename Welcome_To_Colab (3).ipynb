{
  "cells": [
    {
      "cell_type": "code",
      "source": [
        "#user_data\n",
        "data=[\n",
        "(521,'Mirzapur',3,'2024-07-30 15:00:00','action',300),\n",
        "(672,'Panchayat',3,'2024-07-30 15:00:00','comedy',200),\n",
        "(197,'Family Man',2,'2024-07-30 15:00:00','action',500),\n",
        "(521,'Mirzapur',2,'2024-07-29 15:00:00','action',280),\n",
        "(211,'Queens Gambit',1,'2024-07-30 15:00:00','drama',170),\n",
        "(521,'Mirzapur',1,'2024-07-28 15:00:00','action',230),\n",
        "(844,'Westworld',3,'2024-07-30 15:00:00','sci-fi',310),\n",
        "(672,'Panchayat',3,'2024-07-29 15:00:00','comedy',210),\n",
        "(256,'Homecoming',2,'2024-07-30 15:00:00','thriller',310),\n",
        "(489,'Outer Range',1,'2024-07-30 15:00:00','sci-fi',340),\n",
        "(200,'Black Mirror',2,'2024-07-30 15:00:00','sci-fi',140),\n",
        "(256,'Outer Range',2,'2024-07-30 15:00:00','thriller',250),\n",
        "(489,'Outer Range',2,'2024-07-28 15:00:00','sci-fi',170),\n",
        "(200,'Black Mirror',3,'2024-07-29 15:00:00','sci-fi',190),\n",
        "(672,'Panchayat',2,'2024-07-28 15:00:00','comedy',160),\n",
        "(672,'Outer Range',1,'2024-07-25 15:00:00','sci-fi',250),\n",
        "(200,'Black Mirror',4,'2024-07-28 15:00:00','sci-fi',200),\n",
        "(844,'Westworld',2,'2024-07-29 15:00:00','sci-fi',300),\n",
        "(672,'Black Mirror',5,'2024-07-28 15:00:00','sci-fi',150),\n",
        "(672,'Panchayat',1,'2024-07-27 15:00:00','comedy',190)]"
      ],
      "metadata": {
        "id": "_e8uOt0N2y8H"
      },
      "execution_count": 4,
      "outputs": []
    },
    {
      "cell_type": "code",
      "source": [
        "sch = ('user_id','series','season','timestamp','genre','duration_mins')"
      ],
      "metadata": {
        "id": "SHadfGRS78rP"
      },
      "execution_count": 10,
      "outputs": []
    },
    {
      "cell_type": "code",
      "source": [
        "!pip install pyspark\n",
        "from pyspark.sql import SparkSession\n",
        "from pyspark.sql.functions import *"
      ],
      "metadata": {
        "id": "xHyhuOaa2rNX",
        "outputId": "2d28334a-056a-4685-da22-09b944c2bb48",
        "colab": {
          "base_uri": "https://localhost:8080/"
        }
      },
      "execution_count": 3,
      "outputs": [
        {
          "output_type": "stream",
          "name": "stdout",
          "text": [
            "Requirement already satisfied: pyspark in /usr/local/lib/python3.10/dist-packages (3.5.1)\n",
            "Requirement already satisfied: py4j==0.10.9.7 in /usr/local/lib/python3.10/dist-packages (from pyspark) (0.10.9.7)\n"
          ]
        }
      ]
    },
    {
      "cell_type": "code",
      "source": [
        "#Create SparkSession for app (Streaming Analysis)\n",
        "spark = SparkSession.builder.appName('Streaming Analysis').getOrCreate()\n",
        "\n",
        "\n",
        "\n"
      ],
      "metadata": {
        "id": "4-udfMrl2rI2"
      },
      "execution_count": 9,
      "outputs": []
    },
    {
      "cell_type": "code",
      "source": [
        "#Create Dataframe series_df\n",
        "df = spark.createDataFrame(data,schema = sch)\n",
        "df.show()"
      ],
      "metadata": {
        "id": "m_H5qVRZ2rHe",
        "outputId": "a5a4235f-850e-42b8-a924-4ce54030eca6",
        "colab": {
          "base_uri": "https://localhost:8080/"
        }
      },
      "execution_count": 13,
      "outputs": [
        {
          "output_type": "stream",
          "name": "stdout",
          "text": [
            "+-------+-------------+------+-------------------+--------+-------------+\n",
            "|user_id|       series|season|          timestamp|   genre|duration_mins|\n",
            "+-------+-------------+------+-------------------+--------+-------------+\n",
            "|    521|     Mirzapur|     3|2024-07-30 15:00:00|  action|          300|\n",
            "|    672|    Panchayat|     3|2024-07-30 15:00:00|  comedy|          200|\n",
            "|    197|   Family Man|     2|2024-07-30 15:00:00|  action|          500|\n",
            "|    521|     Mirzapur|     2|2024-07-29 15:00:00|  action|          280|\n",
            "|    211|Queens Gambit|     1|2024-07-30 15:00:00|   drama|          170|\n",
            "|    521|     Mirzapur|     1|2024-07-28 15:00:00|  action|          230|\n",
            "|    844|    Westworld|     3|2024-07-30 15:00:00|  sci-fi|          310|\n",
            "|    672|    Panchayat|     3|2024-07-29 15:00:00|  comedy|          210|\n",
            "|    256|   Homecoming|     2|2024-07-30 15:00:00|thriller|          310|\n",
            "|    489|  Outer Range|     1|2024-07-30 15:00:00|  sci-fi|          340|\n",
            "|    200| Black Mirror|     2|2024-07-30 15:00:00|  sci-fi|          140|\n",
            "|    256|  Outer Range|     2|2024-07-30 15:00:00|thriller|          250|\n",
            "|    489|  Outer Range|     2|2024-07-28 15:00:00|  sci-fi|          170|\n",
            "|    200| Black Mirror|     3|2024-07-29 15:00:00|  sci-fi|          190|\n",
            "|    672|    Panchayat|     2|2024-07-28 15:00:00|  comedy|          160|\n",
            "|    672|  Outer Range|     1|2024-07-25 15:00:00|  sci-fi|          250|\n",
            "|    200| Black Mirror|     4|2024-07-28 15:00:00|  sci-fi|          200|\n",
            "|    844|    Westworld|     2|2024-07-29 15:00:00|  sci-fi|          300|\n",
            "|    672| Black Mirror|     5|2024-07-28 15:00:00|  sci-fi|          150|\n",
            "|    672|    Panchayat|     1|2024-07-27 15:00:00|  comedy|          190|\n",
            "+-------+-------------+------+-------------------+--------+-------------+\n",
            "\n"
          ]
        }
      ]
    },
    {
      "cell_type": "code",
      "source": [
        "#Find the user with maximum watchtime\n",
        "df1 = df.groupBy('user_id').agg({'duration_mins': 'max'}).orderBy('max(duration_mins)',ascending=False).show(1)"
      ],
      "metadata": {
        "id": "Ele5SCkQ2rF5",
        "outputId": "bfd602fc-ea20-46e0-9b09-e511b2fa60ff",
        "colab": {
          "base_uri": "https://localhost:8080/"
        }
      },
      "execution_count": 18,
      "outputs": [
        {
          "output_type": "stream",
          "name": "stdout",
          "text": [
            "+-------+------------------+\n",
            "|user_id|max(duration_mins)|\n",
            "+-------+------------------+\n",
            "|    197|               500|\n",
            "+-------+------------------+\n",
            "only showing top 1 row\n",
            "\n"
          ]
        }
      ]
    },
    {
      "cell_type": "code",
      "source": [
        "#Calculate overall total Watchtime\n",
        "df2 = df.groupBy('user_id').agg({'duration_mins' : 'sum'}).show(1)\n",
        "\n"
      ],
      "metadata": {
        "id": "x1bLuKzR2rET",
        "outputId": "102a3a00-8687-4871-b70b-bb5cca2b0db8",
        "colab": {
          "base_uri": "https://localhost:8080/"
        }
      },
      "execution_count": 26,
      "outputs": [
        {
          "output_type": "stream",
          "name": "stdout",
          "text": [
            "+-------+------------------+\n",
            "|user_id|sum(duration_mins)|\n",
            "+-------+------------------+\n",
            "|    844|               610|\n",
            "+-------+------------------+\n",
            "only showing top 1 row\n",
            "\n"
          ]
        }
      ]
    },
    {
      "cell_type": "code",
      "source": [
        "#Find most popular shows (based on watchtime)\n",
        "df3 = df.groupBy('series').agg({'duration_mins':'sum'}).orderBy('sum(duration_mins)',ascending = False).show(1)\n"
      ],
      "metadata": {
        "id": "cR8CYpLi2rDB",
        "outputId": "57d286a5-0736-4404-dd17-f871086cbd0f",
        "colab": {
          "base_uri": "https://localhost:8080/"
        }
      },
      "execution_count": 28,
      "outputs": [
        {
          "output_type": "stream",
          "name": "stdout",
          "text": [
            "+-----------+------------------+\n",
            "|     series|sum(duration_mins)|\n",
            "+-----------+------------------+\n",
            "|Outer Range|              1010|\n",
            "+-----------+------------------+\n",
            "only showing top 1 row\n",
            "\n"
          ]
        }
      ]
    },
    {
      "cell_type": "code",
      "source": [
        "#Find most popular shows (based on user popularity)\n",
        "df4 = df.groupBy('series').agg({'user_id':'count'}).show(1)\n"
      ],
      "metadata": {
        "id": "yV8G5vgo2rBe",
        "outputId": "1b0fbe2e-2f01-4e89-abd5-d9b8221af8f6",
        "colab": {
          "base_uri": "https://localhost:8080/"
        }
      },
      "execution_count": 30,
      "outputs": [
        {
          "output_type": "stream",
          "name": "stdout",
          "text": [
            "+-----------+--------------+\n",
            "|     series|count(user_id)|\n",
            "+-----------+--------------+\n",
            "|Outer Range|             4|\n",
            "+-----------+--------------+\n",
            "only showing top 1 row\n",
            "\n"
          ]
        }
      ]
    },
    {
      "cell_type": "code",
      "source": [
        "#Find the most popular genre\n",
        "df.groupBy('genre').agg({'user_id': 'count'}).orderBy('count(user_id)',ascending = False).show()\n"
      ],
      "metadata": {
        "id": "IH9kq0IP3sab",
        "outputId": "cb8adbef-2cdd-41f6-b417-f9581660d569",
        "colab": {
          "base_uri": "https://localhost:8080/"
        }
      },
      "execution_count": 54,
      "outputs": [
        {
          "output_type": "stream",
          "name": "stdout",
          "text": [
            "+--------+--------------+\n",
            "|   genre|count(user_id)|\n",
            "+--------+--------------+\n",
            "|  sci-fi|             9|\n",
            "|  action|             4|\n",
            "|  comedy|             4|\n",
            "|thriller|             2|\n",
            "|   drama|             1|\n",
            "+--------+--------------+\n",
            "\n"
          ]
        }
      ]
    },
    {
      "cell_type": "code",
      "source": [
        "#Find most popular genre (based on engagement count)\n",
        "df.groupBy('genre').agg({'timestamp' : 'count'}).show()\n"
      ],
      "metadata": {
        "id": "vDYvoJ7F2q-I",
        "outputId": "17f5e609-ab03-4dcf-ce9a-244d742584b9",
        "colab": {
          "base_uri": "https://localhost:8080/"
        }
      },
      "execution_count": 53,
      "outputs": [
        {
          "output_type": "stream",
          "name": "stdout",
          "text": [
            "+--------+----------------+\n",
            "|   genre|count(timestamp)|\n",
            "+--------+----------------+\n",
            "|  action|               4|\n",
            "|   drama|               1|\n",
            "|thriller|               2|\n",
            "|  sci-fi|               9|\n",
            "|  comedy|               4|\n",
            "+--------+----------------+\n",
            "\n"
          ]
        }
      ]
    },
    {
      "cell_type": "code",
      "source": [
        "#Find average watchtime per genre\n",
        "df.groupBy('genre').agg({'duration_mins' : 'avg'}).show()\n",
        "\n"
      ],
      "metadata": {
        "id": "StClJZ3P2q86",
        "outputId": "02330806-05a4-4dce-be28-89e549a6abdb",
        "colab": {
          "base_uri": "https://localhost:8080/"
        }
      },
      "execution_count": 52,
      "outputs": [
        {
          "output_type": "stream",
          "name": "stdout",
          "text": [
            "+--------+------------------+\n",
            "|   genre|avg(duration_mins)|\n",
            "+--------+------------------+\n",
            "|  action|             327.5|\n",
            "|   drama|             170.0|\n",
            "|thriller|             280.0|\n",
            "|  sci-fi|227.77777777777777|\n",
            "|  comedy|             190.0|\n",
            "+--------+------------------+\n",
            "\n"
          ]
        }
      ]
    },
    {
      "cell_type": "code",
      "source": [
        "#Find peak traffic days\n",
        "#(Output 1 = Full Date)\n",
        "df.groupBy('timestamp').agg({'user_id' : 'count'}).orderBy('count(user_id)',ascending=False).first()[0]\n",
        "\n",
        "\n",
        "\n",
        "#(Output 2 = Only Day)\n",
        "\n",
        "\n",
        "\n"
      ],
      "metadata": {
        "id": "YkE42IZU2q6_",
        "outputId": "38ebeb67-c0ce-4762-8fa2-6415d655b986",
        "colab": {
          "base_uri": "https://localhost:8080/",
          "height": 35
        }
      },
      "execution_count": 56,
      "outputs": [
        {
          "output_type": "execute_result",
          "data": {
            "text/plain": [
              "'2024-07-30 15:00:00'"
            ],
            "application/vnd.google.colaboratory.intrinsic+json": {
              "type": "string"
            }
          },
          "metadata": {},
          "execution_count": 56
        }
      ]
    },
    {
      "cell_type": "code",
      "source": [
        "#Find the user with most diverse show preference\n",
        "df.groupBy('user_id').agg(countDistinct('genre')).orderBy(countDistinct('genre'), ascending=False).show()\n"
      ],
      "metadata": {
        "id": "4HRH3zQX2q5q",
        "outputId": "21a92ce8-3c54-4f5f-de94-ee41a742f4bf",
        "colab": {
          "base_uri": "https://localhost:8080/"
        }
      },
      "execution_count": 72,
      "outputs": [
        {
          "output_type": "stream",
          "name": "stdout",
          "text": [
            "+-------+---------------------+\n",
            "|user_id|count(DISTINCT genre)|\n",
            "+-------+---------------------+\n",
            "|    672|                    2|\n",
            "|    844|                    1|\n",
            "|    521|                    1|\n",
            "|    197|                    1|\n",
            "|    200|                    1|\n",
            "|    256|                    1|\n",
            "|    489|                    1|\n",
            "|    211|                    1|\n",
            "+-------+---------------------+\n",
            "\n"
          ]
        }
      ]
    },
    {
      "cell_type": "code",
      "source": [
        "#Find the binge-watchers\n",
        "\n",
        "\n"
      ],
      "metadata": {
        "id": "5nowrRLG2q3_"
      },
      "execution_count": null,
      "outputs": []
    },
    {
      "cell_type": "code",
      "source": [
        "#Find the user with longest watching streak\n",
        "df.groupBy('user_id','timestamp').agg({'duration_mins' : 'sum'}).orderBy('sum(duration_mins)',ascending=False).show()\n"
      ],
      "metadata": {
        "id": "-G1fNrCa2q2b",
        "outputId": "ee012c82-716e-4f68-e02d-3fa6984c00bb",
        "colab": {
          "base_uri": "https://localhost:8080/"
        }
      },
      "execution_count": 78,
      "outputs": [
        {
          "output_type": "stream",
          "name": "stdout",
          "text": [
            "+-------+-------------------+------------------+\n",
            "|user_id|          timestamp|sum(duration_mins)|\n",
            "+-------+-------------------+------------------+\n",
            "|    256|2024-07-30 15:00:00|               560|\n",
            "|    197|2024-07-30 15:00:00|               500|\n",
            "|    489|2024-07-30 15:00:00|               340|\n",
            "|    844|2024-07-30 15:00:00|               310|\n",
            "|    672|2024-07-28 15:00:00|               310|\n",
            "|    521|2024-07-30 15:00:00|               300|\n",
            "|    844|2024-07-29 15:00:00|               300|\n",
            "|    521|2024-07-29 15:00:00|               280|\n",
            "|    672|2024-07-25 15:00:00|               250|\n",
            "|    521|2024-07-28 15:00:00|               230|\n",
            "|    672|2024-07-29 15:00:00|               210|\n",
            "|    672|2024-07-30 15:00:00|               200|\n",
            "|    200|2024-07-28 15:00:00|               200|\n",
            "|    200|2024-07-29 15:00:00|               190|\n",
            "|    672|2024-07-27 15:00:00|               190|\n",
            "|    211|2024-07-30 15:00:00|               170|\n",
            "|    489|2024-07-28 15:00:00|               170|\n",
            "|    200|2024-07-30 15:00:00|               140|\n",
            "+-------+-------------------+------------------+\n",
            "\n"
          ]
        }
      ]
    },
    {
      "cell_type": "code",
      "source": [
        "df.show()"
      ],
      "metadata": {
        "id": "syQBZgIThN6P",
        "outputId": "ee9d3f84-55f8-4231-927a-99bb62bcd318",
        "colab": {
          "base_uri": "https://localhost:8080/"
        }
      },
      "execution_count": 73,
      "outputs": [
        {
          "output_type": "stream",
          "name": "stdout",
          "text": [
            "+-------+-------------+------+-------------------+--------+-------------+\n",
            "|user_id|       series|season|          timestamp|   genre|duration_mins|\n",
            "+-------+-------------+------+-------------------+--------+-------------+\n",
            "|    521|     Mirzapur|     3|2024-07-30 15:00:00|  action|          300|\n",
            "|    672|    Panchayat|     3|2024-07-30 15:00:00|  comedy|          200|\n",
            "|    197|   Family Man|     2|2024-07-30 15:00:00|  action|          500|\n",
            "|    521|     Mirzapur|     2|2024-07-29 15:00:00|  action|          280|\n",
            "|    211|Queens Gambit|     1|2024-07-30 15:00:00|   drama|          170|\n",
            "|    521|     Mirzapur|     1|2024-07-28 15:00:00|  action|          230|\n",
            "|    844|    Westworld|     3|2024-07-30 15:00:00|  sci-fi|          310|\n",
            "|    672|    Panchayat|     3|2024-07-29 15:00:00|  comedy|          210|\n",
            "|    256|   Homecoming|     2|2024-07-30 15:00:00|thriller|          310|\n",
            "|    489|  Outer Range|     1|2024-07-30 15:00:00|  sci-fi|          340|\n",
            "|    200| Black Mirror|     2|2024-07-30 15:00:00|  sci-fi|          140|\n",
            "|    256|  Outer Range|     2|2024-07-30 15:00:00|thriller|          250|\n",
            "|    489|  Outer Range|     2|2024-07-28 15:00:00|  sci-fi|          170|\n",
            "|    200| Black Mirror|     3|2024-07-29 15:00:00|  sci-fi|          190|\n",
            "|    672|    Panchayat|     2|2024-07-28 15:00:00|  comedy|          160|\n",
            "|    672|  Outer Range|     1|2024-07-25 15:00:00|  sci-fi|          250|\n",
            "|    200| Black Mirror|     4|2024-07-28 15:00:00|  sci-fi|          200|\n",
            "|    844|    Westworld|     2|2024-07-29 15:00:00|  sci-fi|          300|\n",
            "|    672| Black Mirror|     5|2024-07-28 15:00:00|  sci-fi|          150|\n",
            "|    672|    Panchayat|     1|2024-07-27 15:00:00|  comedy|          190|\n",
            "+-------+-------------+------+-------------------+--------+-------------+\n",
            "\n"
          ]
        }
      ]
    },
    {
      "cell_type": "code",
      "source": [
        "#Total Seasons available\n",
        "df.groupBy('series').agg({'season':'max'}).show()\n"
      ],
      "metadata": {
        "id": "8kllHJdc2q0z",
        "outputId": "5bf086b9-9c99-4661-89b6-5a49c2edde77",
        "colab": {
          "base_uri": "https://localhost:8080/"
        }
      },
      "execution_count": 81,
      "outputs": [
        {
          "output_type": "stream",
          "name": "stdout",
          "text": [
            "+-------------+-----------+\n",
            "|       series|max(season)|\n",
            "+-------------+-----------+\n",
            "|  Outer Range|          2|\n",
            "|    Westworld|          3|\n",
            "|   Family Man|          2|\n",
            "|   Homecoming|          2|\n",
            "|     Mirzapur|          3|\n",
            "|    Panchayat|          3|\n",
            "|Queens Gambit|          1|\n",
            "| Black Mirror|          5|\n",
            "+-------------+-----------+\n",
            "\n"
          ]
        }
      ]
    },
    {
      "cell_type": "code",
      "source": [
        "#Fetch a list of all series\n",
        "df.rdd.flatMap(lambda x:[x[1]]).distinct().collect()"
      ],
      "metadata": {
        "id": "1gr9tDyU2qxW",
        "outputId": "a6d919aa-ea9f-412e-bb3b-d0a08dc765dd",
        "colab": {
          "base_uri": "https://localhost:8080/"
        }
      },
      "execution_count": 92,
      "outputs": [
        {
          "output_type": "execute_result",
          "data": {
            "text/plain": [
              "['Mirzapur',\n",
              " 'Family Man',\n",
              " 'Queens Gambit',\n",
              " 'Westworld',\n",
              " 'Homecoming',\n",
              " 'Panchayat',\n",
              " 'Outer Range',\n",
              " 'Black Mirror']"
            ]
          },
          "metadata": {},
          "execution_count": 92
        }
      ]
    },
    {
      "cell_type": "code",
      "source": [],
      "metadata": {
        "id": "8gKiE9Ta2qv1"
      },
      "execution_count": null,
      "outputs": []
    },
    {
      "cell_type": "code",
      "source": [],
      "metadata": {
        "id": "5hZhCcdk2qug"
      },
      "execution_count": null,
      "outputs": []
    },
    {
      "cell_type": "code",
      "source": [],
      "metadata": {
        "id": "c6_VLp3R2qs8"
      },
      "execution_count": null,
      "outputs": []
    },
    {
      "cell_type": "code",
      "source": [],
      "metadata": {
        "id": "D5JlxSxC2qrX"
      },
      "execution_count": null,
      "outputs": []
    },
    {
      "cell_type": "code",
      "source": [],
      "metadata": {
        "id": "hqAk9YI72qpn"
      },
      "execution_count": null,
      "outputs": []
    }
  ],
  "metadata": {
    "colab": {
      "name": "Welcome To Colab",
      "provenance": []
    },
    "kernelspec": {
      "display_name": "Python 3",
      "name": "python3"
    }
  },
  "nbformat": 4,
  "nbformat_minor": 0
}